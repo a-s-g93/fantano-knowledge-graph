{
 "cells": [
  {
   "cell_type": "markdown",
   "metadata": {},
   "source": [
    "# Ingest"
   ]
  },
  {
   "cell_type": "markdown",
   "metadata": {},
   "source": [
    "This notebook handles data formatting for ingestion, gets embeddings if required and ingests data into the Neo4j graph."
   ]
  },
  {
   "cell_type": "code",
   "execution_count": 1,
   "metadata": {},
   "outputs": [],
   "source": [
    "import sys\n",
    "import os\n",
    "import time\n",
    "from typing import List, Dict\n",
    "import json\n",
    "from uuid import uuid4\n",
    "\n",
    "import pandas as pd\n",
    "\n",
    "from tools.chunker import Chunker\n",
    "from tools.embedding import EmbeddingService\n",
    "from n4j.communicator import GraphWriter\n",
    "\n",
    "from utils.utils import batch_method, prepare_new_nodes, remove_filler_words\n"
   ]
  },
  {
   "cell_type": "markdown",
   "metadata": {},
   "source": [
    "## Define variables"
   ]
  },
  {
   "cell_type": "code",
   "execution_count": 2,
   "metadata": {},
   "outputs": [],
   "source": [
    "with open(\"resources/playlist_ids.json\") as json_file:\n",
    "    playlists = json.load(json_file)"
   ]
  },
  {
   "cell_type": "code",
   "execution_count": 3,
   "metadata": {},
   "outputs": [
    {
     "data": {
      "text/plain": [
       "'classics'"
      ]
     },
     "execution_count": 3,
     "metadata": {},
     "output_type": "execute_result"
    }
   ],
   "source": [
    "list(playlists.keys())[0]"
   ]
  },
  {
   "cell_type": "code",
   "execution_count": 4,
   "metadata": {},
   "outputs": [],
   "source": [
    "embed = EmbeddingService(service_provider=\"openai\")\n",
    "dims = embed.dimensions"
   ]
  },
  {
   "cell_type": "code",
   "execution_count": 5,
   "metadata": {},
   "outputs": [
    {
     "name": "stdout",
     "output_type": "stream",
     "text": [
      "driver created\n"
     ]
    }
   ],
   "source": [
    "writer = GraphWriter()"
   ]
  },
  {
   "cell_type": "code",
   "execution_count": 6,
   "metadata": {},
   "outputs": [],
   "source": [
    "# playlist = 'classics'\n",
    "# playlist_id = playlists[playlist]"
   ]
  },
  {
   "cell_type": "markdown",
   "metadata": {},
   "source": [
    "## Load Code"
   ]
  },
  {
   "cell_type": "code",
   "execution_count": 7,
   "metadata": {},
   "outputs": [
    {
     "name": "stdout",
     "output_type": "stream",
     "text": [
      "'indexConfig'\n"
     ]
    }
   ],
   "source": [
    "try:\n",
    "    writer.create_constraints()\n",
    "except Exception as e:\n",
    "    print(e)\n",
    "try:\n",
    "    writer.create_indexes(vector_dimensions=96)\n",
    "except Exception as e:\n",
    "    print(e)"
   ]
  },
  {
   "cell_type": "code",
   "execution_count": 8,
   "metadata": {},
   "outputs": [],
   "source": [
    "titles_to_load = ['worst to best', 'electronic']"
   ]
  },
  {
   "cell_type": "code",
   "execution_count": 9,
   "metadata": {},
   "outputs": [],
   "source": [
    "def chunk_load_sequence(title: str, playlist_id: str) -> None:\n",
    "    \n",
    "    print(\"creating chunks...\")\n",
    "    chunker = Chunker()\n",
    "    chunker._chunked_documents = []\n",
    "    chunker.chunk_youtube_transcripts(playlist_title=title,\n",
    "                                    cleaning_functions=[remove_filler_words])\n",
    "\n",
    "    result = []\n",
    "    failed_idx = None\n",
    "    playlist_total = len(chunker.chunks_as_list)\n",
    "\n",
    "    print(title+\": \"+str(playlist_total))\n",
    "    print(\"grabbing embeddings...\")\n",
    "\n",
    "    for idx, bat in enumerate(batch_method(chunker.chunks_as_list, 20)):\n",
    "        new_nodes = prepare_new_nodes(data=bat, playlist_id=playlist_id, embedding_service=embed)\n",
    "        result+=new_nodes\n",
    "        print(\"total percent: \", str(round(((20*idx)+1) / playlist_total, 4)*100)[:4], \"%\", \" batch\", idx+1, \"                  \",  end=\"\\r\")\n",
    "\n",
    "    print(\"loading to graph...\\n\")\n",
    "    for idx, bat in enumerate(batch_method(result, 500)):\n",
    "        writer.load_nodes(data=bat)\n",
    "        print(\"total percent: \", str(round(((20*idx)+1) / playlist_total, 4)*100)[:4], \"%\", \" batch\", idx+1, \"                  \", end=\"\\r\")\n",
    "\n",
    "    print()\n"
   ]
  },
  {
   "cell_type": "code",
   "execution_count": 10,
   "metadata": {},
   "outputs": [
    {
     "name": "stdout",
     "output_type": "stream",
     "text": [
      "electronic: 62518\n",
      "grabbing embeddings...\n",
      "loading to graph...9 %  batch 3126\n",
      "\n",
      "total percent:  4.0 %  batch 1265\n"
     ]
    }
   ],
   "source": [
    "for title in titles_to_load:\n",
    "    chunk_load_sequence(title=title, playlist_id=playlists[title])\n"
   ]
  }
 ],
 "metadata": {
  "kernelspec": {
   "display_name": "venv",
   "language": "python",
   "name": "python3"
  },
  "language_info": {
   "codemirror_mode": {
    "name": "ipython",
    "version": 3
   },
   "file_extension": ".py",
   "mimetype": "text/x-python",
   "name": "python",
   "nbconvert_exporter": "python",
   "pygments_lexer": "ipython3",
   "version": "3.11.3"
  }
 },
 "nbformat": 4,
 "nbformat_minor": 2
}

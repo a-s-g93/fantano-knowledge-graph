{
 "cells": [
  {
   "cell_type": "code",
   "execution_count": 1,
   "metadata": {},
   "outputs": [],
   "source": [
    "from tools.scraper import Scraper\n",
    "from tools.chunker import Chunker\n",
    "import os"
   ]
  },
  {
   "cell_type": "code",
   "execution_count": 2,
   "metadata": {},
   "outputs": [
    {
     "name": "stdout",
     "output_type": "stream",
     "text": [
      "fantano-videos\n"
     ]
    }
   ],
   "source": [
    "print(os.environ.get('GCP_BUCKET_NAME'))"
   ]
  },
  {
   "cell_type": "code",
   "execution_count": 3,
   "metadata": {},
   "outputs": [],
   "source": [
    "scraper = Scraper(channel_id='UCt7fwAhXDy3oNFTAzF2o8Pw', uploads_id='UUt7fwAhXDy3oNFTAzF2o8Pw')"
   ]
  },
  {
   "cell_type": "code",
   "execution_count": 4,
   "metadata": {},
   "outputs": [
    {
     "data": {
      "text/plain": [
       "'UCt7fwAhXDy3oNFTAzF2o8Pw'"
      ]
     },
     "execution_count": 4,
     "metadata": {},
     "output_type": "execute_result"
    }
   ],
   "source": [
    "scraper.channel_id"
   ]
  },
  {
   "cell_type": "code",
   "execution_count": 5,
   "metadata": {},
   "outputs": [
    {
     "data": {
      "text/plain": [
       "'UUt7fwAhXDy3oNFTAzF2o8Pw'"
      ]
     },
     "execution_count": 5,
     "metadata": {},
     "output_type": "execute_result"
    }
   ],
   "source": [
    "scraper.uploads_id"
   ]
  },
  {
   "cell_type": "code",
   "execution_count": 6,
   "metadata": {},
   "outputs": [],
   "source": [
    "# scraper.scrape_video_ids()"
   ]
  },
  {
   "cell_type": "code",
   "execution_count": 7,
   "metadata": {},
   "outputs": [],
   "source": [
    "# scraper.upload_scraped_video_ids()"
   ]
  },
  {
   "cell_type": "code",
   "execution_count": 8,
   "metadata": {},
   "outputs": [
    {
     "data": {
      "text/html": [
       "<div>\n",
       "<style scoped>\n",
       "    .dataframe tbody tr th:only-of-type {\n",
       "        vertical-align: middle;\n",
       "    }\n",
       "\n",
       "    .dataframe tbody tr th {\n",
       "        vertical-align: top;\n",
       "    }\n",
       "\n",
       "    .dataframe thead th {\n",
       "        text-align: right;\n",
       "    }\n",
       "</style>\n",
       "<table border=\"1\" class=\"dataframe\">\n",
       "  <thead>\n",
       "    <tr style=\"text-align: right;\">\n",
       "      <th></th>\n",
       "      <th>id</th>\n",
       "      <th>title</th>\n",
       "    </tr>\n",
       "  </thead>\n",
       "  <tbody>\n",
       "    <tr>\n",
       "      <th>0</th>\n",
       "      <td>aMNW6u-FRQM</td>\n",
       "      <td>Kanye West, Björk, 100 gecs, Jimmy Fallon | We...</td>\n",
       "    </tr>\n",
       "    <tr>\n",
       "      <th>1</th>\n",
       "      <td>icZxNTebbaw</td>\n",
       "      <td>Wiki &amp; Tony Seltzer - 14K Figaro ALBUM REVIEW</td>\n",
       "    </tr>\n",
       "    <tr>\n",
       "      <th>2</th>\n",
       "      <td>F7Ueob1FEAo</td>\n",
       "      <td>André 3000 - New Blue Sun ALBUM REVIEW</td>\n",
       "    </tr>\n",
       "    <tr>\n",
       "      <th>3</th>\n",
       "      <td>J9wUXqNtQgw</td>\n",
       "      <td>Danny Brown - Quaranta ALBUM REVIEW</td>\n",
       "    </tr>\n",
       "    <tr>\n",
       "      <th>4</th>\n",
       "      <td>b7QY9qCWdhU</td>\n",
       "      <td>Drake - For All the Dogs Scary Hours Edition R...</td>\n",
       "    </tr>\n",
       "    <tr>\n",
       "      <th>...</th>\n",
       "      <td>...</td>\n",
       "      <td>...</td>\n",
       "    </tr>\n",
       "    <tr>\n",
       "      <th>4294</th>\n",
       "      <td>SFLvAe2k0Z0</td>\n",
       "      <td>High On Fire- Snakes for the Divine Review</td>\n",
       "    </tr>\n",
       "    <tr>\n",
       "      <th>4295</th>\n",
       "      <td>ftt175Djodk</td>\n",
       "      <td>The Knife- Tomorrow, In a Year Album Review</td>\n",
       "    </tr>\n",
       "    <tr>\n",
       "      <th>4296</th>\n",
       "      <td>A9RLE74OXUY</td>\n",
       "      <td>Gorillaz- Plastic Beach Review</td>\n",
       "    </tr>\n",
       "    <tr>\n",
       "      <th>4297</th>\n",
       "      <td>wbLFXN1yy5Q</td>\n",
       "      <td>SLIPKNOT TRACK REVIEW</td>\n",
       "    </tr>\n",
       "    <tr>\n",
       "      <th>4298</th>\n",
       "      <td>1duvy3ewoks</td>\n",
       "      <td>I saw Sunn O)))</td>\n",
       "    </tr>\n",
       "  </tbody>\n",
       "</table>\n",
       "<p>4299 rows × 2 columns</p>\n",
       "</div>"
      ],
      "text/plain": [
       "               id                                              title\n",
       "0     aMNW6u-FRQM  Kanye West, Björk, 100 gecs, Jimmy Fallon | We...\n",
       "1     icZxNTebbaw      Wiki & Tony Seltzer - 14K Figaro ALBUM REVIEW\n",
       "2     F7Ueob1FEAo             André 3000 - New Blue Sun ALBUM REVIEW\n",
       "3     J9wUXqNtQgw                Danny Brown - Quaranta ALBUM REVIEW\n",
       "4     b7QY9qCWdhU  Drake - For All the Dogs Scary Hours Edition R...\n",
       "...           ...                                                ...\n",
       "4294  SFLvAe2k0Z0         High On Fire- Snakes for the Divine Review\n",
       "4295  ftt175Djodk        The Knife- Tomorrow, In a Year Album Review\n",
       "4296  A9RLE74OXUY                     Gorillaz- Plastic Beach Review\n",
       "4297  wbLFXN1yy5Q                              SLIPKNOT TRACK REVIEW\n",
       "4298  1duvy3ewoks                                    I saw Sunn O)))\n",
       "\n",
       "[4299 rows x 2 columns]"
      ]
     },
     "execution_count": 8,
     "metadata": {},
     "output_type": "execute_result"
    }
   ],
   "source": [
    "scraper._get_youtube_video_info()"
   ]
  },
  {
   "cell_type": "code",
   "execution_count": 9,
   "metadata": {},
   "outputs": [
    {
     "name": "stdout",
     "output_type": "stream",
     "text": [
      "Video aMNW6u-FRQM Uploaded to GCP Storage.\n",
      "Created & Uploaded :  0.02\n",
      "Failed             :  0\n",
      "Video icZxNTebbaw Uploaded to GCP Storage.\n",
      "Video F7Ueob1FEAo Uploaded to GCP Storage.\n",
      "Video J9wUXqNtQgw Uploaded to GCP Storage.\n",
      "Video b7QY9qCWdhU Uploaded to GCP Storage.\n",
      "Video qL8nJUutBNw Uploaded to GCP Storage.\n",
      "Video nJSKpF6p5cI Uploaded to GCP Storage.\n",
      "Video M-gdqphqCZI Uploaded to GCP Storage.\n",
      "Video -n8xv2vugpE Uploaded to GCP Storage.\n",
      "Video rRJiTRfRHfE Uploaded to GCP Storage.\n",
      "Video 9WgN8u8wC7o Uploaded to GCP Storage.\n"
     ]
    }
   ],
   "source": [
    "scraper.create_and_upload_transcripts()"
   ]
  },
  {
   "cell_type": "code",
   "execution_count": null,
   "metadata": {},
   "outputs": [],
   "source": []
  }
 ],
 "metadata": {
  "kernelspec": {
   "display_name": "venv",
   "language": "python",
   "name": "python3"
  },
  "language_info": {
   "codemirror_mode": {
    "name": "ipython",
    "version": 3
   },
   "file_extension": ".py",
   "mimetype": "text/x-python",
   "name": "python",
   "nbconvert_exporter": "python",
   "pygments_lexer": "ipython3",
   "version": "3.11.3"
  }
 },
 "nbformat": 4,
 "nbformat_minor": 2
}

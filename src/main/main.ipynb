{
 "cells": [
  {
   "cell_type": "code",
   "execution_count": 1,
   "metadata": {},
   "outputs": [],
   "source": [
    "from tools.scraper import Scraper\n",
    "from tools.chunker import Chunker\n",
    "import os"
   ]
  },
  {
   "cell_type": "code",
   "execution_count": 2,
   "metadata": {},
   "outputs": [
    {
     "name": "stdout",
     "output_type": "stream",
     "text": [
      "fantano-videos\n"
     ]
    }
   ],
   "source": [
    "print(os.environ.get('GCP_BUCKET_NAME'))"
   ]
  },
  {
   "cell_type": "code",
   "execution_count": 4,
   "metadata": {},
   "outputs": [],
   "source": [
    "scraper = Scraper()"
   ]
  },
  {
   "cell_type": "code",
   "execution_count": 5,
   "metadata": {},
   "outputs": [
    {
     "data": {
      "text/plain": [
       "'UCt7fwAhXDy3oNFTAzF2o8Pw'"
      ]
     },
     "execution_count": 5,
     "metadata": {},
     "output_type": "execute_result"
    }
   ],
   "source": [
    "scraper.channel_id"
   ]
  },
  {
   "cell_type": "code",
   "execution_count": 6,
   "metadata": {},
   "outputs": [
    {
     "data": {
      "text/plain": [
       "'UUt7fwAhXDy3oNFTAzF2o8Pw'"
      ]
     },
     "execution_count": 6,
     "metadata": {},
     "output_type": "execute_result"
    }
   ],
   "source": [
    "scraper.uploads_id"
   ]
  },
  {
   "cell_type": "code",
   "execution_count": 7,
   "metadata": {},
   "outputs": [],
   "source": [
    "# scraper.scrape_video_ids()"
   ]
  },
  {
   "cell_type": "code",
   "execution_count": 8,
   "metadata": {},
   "outputs": [],
   "source": [
    "# scraper.upload_scraped_video_ids()"
   ]
  },
  {
   "cell_type": "code",
   "execution_count": 11,
   "metadata": {},
   "outputs": [
    {
     "ename": "AttributeError",
     "evalue": "'NoneType' object has no attribute 'download_as_string'",
     "output_type": "error",
     "traceback": [
      "\u001b[0;31m---------------------------------------------------------------------------\u001b[0m",
      "\u001b[0;31mAttributeError\u001b[0m                            Traceback (most recent call last)",
      "\u001b[1;32m/Users/alexandergilmore/Documents/GitHub/fantano-knowledge-graph/src/main/main.ipynb Cell 8\u001b[0m line \u001b[0;36m1\n\u001b[0;32m----> <a href='vscode-notebook-cell:/Users/alexandergilmore/Documents/GitHub/fantano-knowledge-graph/src/main/main.ipynb#X12sZmlsZQ%3D%3D?line=0'>1</a>\u001b[0m scraper\u001b[39m.\u001b[39;49mcreate_and_upload_transcripts()\n",
      "File \u001b[0;32m~/Documents/GitHub/fantano-knowledge-graph/src/main/tools/scraper.py:123\u001b[0m, in \u001b[0;36mScraper.create_and_upload_transcripts\u001b[0;34m(self)\u001b[0m\n\u001b[1;32m    111\u001b[0m \u001b[39m\u001b[39m\u001b[39m\"\"\"\u001b[39;00m\n\u001b[1;32m    112\u001b[0m \u001b[39mThis method:\u001b[39;00m\n\u001b[1;32m    113\u001b[0m \u001b[39m1. gets the list of all video urls from GCP Storage.\u001b[39;00m\n\u001b[0;32m   (...)\u001b[0m\n\u001b[1;32m    118\u001b[0m \u001b[39m    unsuccessful: list of video ids that were unable to be transcribed.\u001b[39;00m\n\u001b[1;32m    119\u001b[0m \u001b[39m\"\"\"\u001b[39;00m\n\u001b[1;32m    121\u001b[0m unsuccessful \u001b[39m=\u001b[39m []\n\u001b[0;32m--> 123\u001b[0m ids \u001b[39m=\u001b[39m \u001b[39mself\u001b[39;49m\u001b[39m.\u001b[39;49m_get_youtube_video_ids()\n\u001b[1;32m    125\u001b[0m total_ids \u001b[39m=\u001b[39m \u001b[39mlen\u001b[39m(ids)\n\u001b[1;32m    127\u001b[0m \u001b[39mfor\u001b[39;00m idx, \u001b[39mid\u001b[39m \u001b[39min\u001b[39;00m \u001b[39menumerate\u001b[39m(ids[:\u001b[39m10\u001b[39m]):\n",
      "File \u001b[0;32m~/Documents/GitHub/fantano-knowledge-graph/src/main/tools/scraper.py:78\u001b[0m, in \u001b[0;36mScraper._get_youtube_video_ids\u001b[0;34m(self)\u001b[0m\n\u001b[1;32m     72\u001b[0m \u001b[39m\u001b[39m\u001b[39m\"\"\"\u001b[39;00m\n\u001b[1;32m     73\u001b[0m \u001b[39mThis method gets the YouTube video ids csv file from GCP Storage and \u001b[39;00m\n\u001b[1;32m     74\u001b[0m \u001b[39mreturns a list of the video urls it contains.\u001b[39;00m\n\u001b[1;32m     75\u001b[0m \u001b[39m\"\"\"\u001b[39;00m\n\u001b[1;32m     77\u001b[0m videos_temp \u001b[39m=\u001b[39m \u001b[39mself\u001b[39m\u001b[39m.\u001b[39mbucket\u001b[39m.\u001b[39mget_blob(\u001b[39m\"\u001b[39m\u001b[39myoutube/youtube_video_ids.csv\u001b[39m\u001b[39m\"\u001b[39m)\n\u001b[0;32m---> 78\u001b[0m videos_temp \u001b[39m=\u001b[39m videos_temp\u001b[39m.\u001b[39;49mdownload_as_string()\n\u001b[1;32m     79\u001b[0m videos_list \u001b[39m=\u001b[39m pd\u001b[39m.\u001b[39mread_csv(io\u001b[39m.\u001b[39mBytesIO(videos_temp))[\u001b[39m'\u001b[39m\u001b[39mYouTube_Address\u001b[39m\u001b[39m'\u001b[39m]\u001b[39m.\u001b[39mto_list()\n\u001b[1;32m     81\u001b[0m \u001b[39mreturn\u001b[39;00m videos_list\n",
      "\u001b[0;31mAttributeError\u001b[0m: 'NoneType' object has no attribute 'download_as_string'"
     ]
    }
   ],
   "source": [
    "scraper.create_and_upload_transcripts()"
   ]
  },
  {
   "cell_type": "code",
   "execution_count": null,
   "metadata": {},
   "outputs": [],
   "source": []
  }
 ],
 "metadata": {
  "kernelspec": {
   "display_name": "venv",
   "language": "python",
   "name": "python3"
  },
  "language_info": {
   "codemirror_mode": {
    "name": "ipython",
    "version": 3
   },
   "file_extension": ".py",
   "mimetype": "text/x-python",
   "name": "python",
   "nbconvert_exporter": "python",
   "pygments_lexer": "ipython3",
   "version": "3.11.3"
  }
 },
 "nbformat": 4,
 "nbformat_minor": 2
}

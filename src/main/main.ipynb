{
 "cells": [
  {
   "cell_type": "code",
   "execution_count": 1,
   "metadata": {},
   "outputs": [],
   "source": [
    "from tools.scraper import Scraper\n",
    "from tools.chunker import Chunker\n",
    "from n4j.communicator import Communicator\n",
    "import os"
   ]
  },
  {
   "cell_type": "code",
   "execution_count": 2,
   "metadata": {},
   "outputs": [
    {
     "name": "stdout",
     "output_type": "stream",
     "text": [
      "fantano-videos\n"
     ]
    }
   ],
   "source": [
    "print(os.environ.get('GCP_BUCKET_NAME'))"
   ]
  },
  {
   "cell_type": "code",
   "execution_count": 3,
   "metadata": {},
   "outputs": [],
   "source": [
    "scraper = Scraper(channel_id='UCt7fwAhXDy3oNFTAzF2o8Pw', uploads_id='UUt7fwAhXDy3oNFTAzF2o8Pw')"
   ]
  },
  {
   "cell_type": "code",
   "execution_count": 4,
   "metadata": {},
   "outputs": [
    {
     "data": {
      "text/plain": [
       "'UCt7fwAhXDy3oNFTAzF2o8Pw'"
      ]
     },
     "execution_count": 4,
     "metadata": {},
     "output_type": "execute_result"
    }
   ],
   "source": [
    "scraper.channel_id"
   ]
  },
  {
   "cell_type": "code",
   "execution_count": 5,
   "metadata": {},
   "outputs": [
    {
     "data": {
      "text/plain": [
       "'UUt7fwAhXDy3oNFTAzF2o8Pw'"
      ]
     },
     "execution_count": 5,
     "metadata": {},
     "output_type": "execute_result"
    }
   ],
   "source": [
    "scraper.uploads_id"
   ]
  },
  {
   "cell_type": "code",
   "execution_count": 6,
   "metadata": {},
   "outputs": [],
   "source": [
    "# scraper.scrape_video_ids()"
   ]
  },
  {
   "cell_type": "code",
   "execution_count": 7,
   "metadata": {},
   "outputs": [],
   "source": [
    "# scraper.upload_scraped_video_ids()"
   ]
  },
  {
   "cell_type": "code",
   "execution_count": 8,
   "metadata": {},
   "outputs": [
    {
     "name": "stdout",
     "output_type": "stream",
     "text": [
      "Created & Uploaded :  0.02 %\n",
      "Failed             :  0\n",
      "Failed: NKPCiBQhvrU\n",
      "Failed: cuAbVa3NM5I\n",
      "Failed: YMoJ4jsLqiQ\n",
      "Failed: nJOeuWvKzww\n",
      "Failed: FVlDV15m854\n",
      "Failed: t1izUgTyMs8\n",
      "Failed: g_kNRWxKLw8\n",
      "Failed: dc-zed6ffrQ\n",
      "Failed: N1Aioax6rYE\n",
      "Failed: PW-SzhsksvE\n",
      "Failed: meeXN2ljRoA\n",
      "Failed: A2ftzgDnsd4\n",
      "Failed: qCs96C1QPKI\n",
      "Failed: 09X24f6LLjc\n",
      "Failed: d9WiNp9l624\n",
      "Failed: 93UpSHztaq0\n",
      "Failed: kXicp53b6PA\n",
      "Failed: pDX3N-Dm9yA\n",
      "Failed: VzHT35kxLuQ\n",
      "Failed: dNCx6M51FvI\n",
      "Failed: knCe71tRofw\n",
      "Failed: k2Rhhj4QnIk\n",
      "Failed: h0bWqgIelDk\n",
      "Failed: ymZIPCNk01M\n",
      "Failed: 54kz9zv_080\n",
      "Failed: JZ3Ijb3Ns6M\n",
      "Failed: _-DrFVGXHyA\n",
      "Failed: 30tYoH9pPpc\n",
      "Failed: E4Qm0wH8p8M\n",
      "Failed: Ppn7Km1v7pA\n",
      "Failed: K3-cGvn8-Fc\n",
      "Failed: khl_jrfz-ws\n",
      "Failed: Kkm-LnhiwGQ\n",
      "Failed: 1ntJS8q74k4\n",
      "Failed: 58of4qFifBM\n",
      "Failed: pnbyue-Jh9k\n",
      "Failed: WS1mVfnfLK8\n",
      "Failed: 8_MdFmLSbaY\n",
      "Failed: Nm2K9usYpfY\n",
      "Failed: 0dwrov4JXT0\n",
      "Failed: BimjGMQbUXQ\n",
      "Failed: Rak-RIbLabA\n",
      "Failed: H12C70upjLU\n",
      "Failed: jM2eCUscL1g\n",
      "Failed: One2rMI8chY\n",
      "Failed: X6d79bon-n8\n",
      "Failed: XtvBFMOwqsU\n",
      "Failed: _spLaSJxYkQ\n",
      "Failed: bU5ddYgaXxs\n",
      "Failed: reMxrzKTyNU\n",
      "Failed: CWqSCn0SG10\n",
      "Failed: pXq6CVP8q_Y\n",
      "Failed: xkI9StSO9AM\n",
      "Failed: ru9qiOXq4ec\n",
      "Failed: u6lrbCViLTM\n",
      "Failed: topbKN4iAX8\n",
      "Failed: FxdeOb1U2HA\n",
      "Failed: ELUAGpc43tg\n",
      "Failed: KK29Ry8Zx2I\n",
      "Failed: vB_y--drYjM\n",
      "Failed: 9kskT7l359s\n",
      "Failed: X63OVtokffA\n",
      "Failed: f0R4T8xaS04\n",
      "Failed: Y_ypI1026i4\n",
      "Failed: gyQWxeaqJ3M\n",
      "Failed: vii2ZzwUhzI\n",
      "Failed: aeufEIA2qYE\n",
      "Failed: CHdCy31Ihro\n",
      "Failed: u7IJtooEuL0\n",
      "Failed: ScTQqlZL3EQ\n",
      "Failed: rETcaDJmemo\n",
      "Failed: hyJN7A4B8F0\n",
      "Failed: 1VhK4zDvvAM\n",
      "Failed: 6dGoe-1csKY\n",
      "Failed: OeHlFSiTAPk\n",
      "Failed: cCfGhfKa7cI\n",
      "Failed: RxnIWNbxY70\n",
      "Failed: eDEsSdR6vvo\n",
      "Failed: s15wXPP1UNw\n",
      "Failed: exQ6iwxmsIo\n",
      "Failed: DV_N7cKbOPM\n",
      "Failed: stoRoLUx63I\n",
      "Failed: n-g7m_ROyds\n",
      "Failed: fZnUu_QMTN4\n",
      "Failed: 0pq71XoRcgw\n",
      "Failed: CH0ix7D-vr0\n",
      "Failed: nmjp97NtrRI\n",
      "Failed: tva9Kl62-Ck\n",
      "Failed: oJMpR_xlxIY\n",
      "Failed: JYlVdlL2rL4\n",
      "Failed: 7GhNlAroN20\n",
      "Failed: eQpYsueOSPo\n",
      "Failed: pzorv3VkwZE\n",
      "Failed: -oZIQdDQfro\n",
      "Failed: m94CWXpu6W8\n",
      "Failed: l-CR-77ElnU\n",
      "Failed: tkWjIwYD8rs\n",
      "Failed: 6HodlyNwmoU\n",
      "Failed: LFsPY8NhCSw\n",
      "Failed: xj1t_9eQ71g\n",
      "Failed: QsOyGQljH_M\n",
      "Failed: 9_49mZZwlBM\n",
      "Failed: xjNG90UjuII\n",
      "Failed: sD93lPFOY6s\n",
      "Failed: yfdRolzdLVE\n",
      "Failed: nyy8_TisAlE\n",
      "Failed: nwJ88RCBcfE\n",
      "Failed: 4uNlwM0ZfY8\n",
      "Failed: o-8BK4XJmzg\n",
      "Failed: fAgo_BNUB_g\n",
      "Failed: NJgHNeFVQqg\n",
      "Failed: I-L_MDmJxU0\n",
      "Failed: P7mLMSo17jc\n",
      "Failed: AMKnqlZzRcM\n",
      "Failed: tpyQzfYDh1Y\n",
      "Failed: 92vrirjwNgU\n",
      "Failed: vMxNmFZ2ijY\n",
      "Failed: Hbi2rTyz42U\n",
      "Failed: 9j3Y7LYl3H8\n",
      "Failed: hh1y2FbdHvA\n",
      "Failed: 7Q8tNSIQKBM\n"
     ]
    },
    {
     "ename": "KeyboardInterrupt",
     "evalue": "",
     "output_type": "error",
     "traceback": [
      "\u001b[0;31m---------------------------------------------------------------------------\u001b[0m",
      "\u001b[0;31mKeyboardInterrupt\u001b[0m                         Traceback (most recent call last)",
      "\u001b[1;32m/Users/alexandergilmore/Documents/GitHub/fantano-knowledge-graph/src/main/main.ipynb Cell 8\u001b[0m line \u001b[0;36m1\n\u001b[0;32m----> <a href='vscode-notebook-cell:/Users/alexandergilmore/Documents/GitHub/fantano-knowledge-graph/src/main/main.ipynb#X10sZmlsZQ%3D%3D?line=0'>1</a>\u001b[0m scraper\u001b[39m.\u001b[39;49mcreate_and_upload_transcripts()\n",
      "File \u001b[0;32m~/Documents/GitHub/fantano-knowledge-graph/src/main/tools/scraper.py:134\u001b[0m, in \u001b[0;36mScraper.create_and_upload_transcripts\u001b[0;34m(self)\u001b[0m\n\u001b[1;32m    132\u001b[0m \u001b[39mid\u001b[39m \u001b[39m=\u001b[39m info[\u001b[39m'\u001b[39m\u001b[39mid\u001b[39m\u001b[39m'\u001b[39m]\n\u001b[1;32m    133\u001b[0m \u001b[39mtry\u001b[39;00m:\n\u001b[0;32m--> 134\u001b[0m     transcript \u001b[39m=\u001b[39m \u001b[39mself\u001b[39;49m\u001b[39m.\u001b[39;49m_create_transcript(video_id\u001b[39m=\u001b[39;49m\u001b[39mid\u001b[39;49m)\n\u001b[1;32m    135\u001b[0m     \u001b[39mself\u001b[39m\u001b[39m.\u001b[39m_upload_transcript(transcript\u001b[39m=\u001b[39mtranscript, video_id\u001b[39m=\u001b[39m\u001b[39mid\u001b[39m, title\u001b[39m=\u001b[39minfo[\u001b[39m'\u001b[39m\u001b[39mtitle\u001b[39m\u001b[39m'\u001b[39m])\n\u001b[1;32m    136\u001b[0m     \u001b[39m# print(\"Video \"+id+\" Uploaded to GCP Storage.\")\u001b[39;00m\n",
      "File \u001b[0;32m~/Documents/GitHub/fantano-knowledge-graph/src/main/tools/scraper.py:90\u001b[0m, in \u001b[0;36mScraper._create_transcript\u001b[0;34m(video_id)\u001b[0m\n\u001b[1;32m     83\u001b[0m \u001b[39m@staticmethod\u001b[39m\n\u001b[1;32m     84\u001b[0m \u001b[39mdef\u001b[39;00m \u001b[39m_create_transcript\u001b[39m(video_id: \u001b[39mstr\u001b[39m) \u001b[39m-\u001b[39m\u001b[39m>\u001b[39m \u001b[39mstr\u001b[39m:\n\u001b[1;32m     85\u001b[0m \u001b[39m    \u001b[39m\u001b[39m\"\"\"\u001b[39;00m\n\u001b[1;32m     86\u001b[0m \u001b[39m    This method retrieves the video transcript and formats it.\u001b[39;00m\n\u001b[1;32m     87\u001b[0m \u001b[39m    Returns a string representation of the video transcript.\u001b[39;00m\n\u001b[1;32m     88\u001b[0m \u001b[39m    \"\"\"\u001b[39;00m\n\u001b[0;32m---> 90\u001b[0m     raw_transcript \u001b[39m=\u001b[39m YouTubeTranscriptApi\u001b[39m.\u001b[39;49mget_transcript(video_id)\n\u001b[1;32m     92\u001b[0m     \u001b[39m# instantiate the text formatter\u001b[39;00m\n\u001b[1;32m     93\u001b[0m     formatter \u001b[39m=\u001b[39m TextFormatter()\n",
      "File \u001b[0;32m~/Documents/GitHub/fantano-knowledge-graph/venv/lib/python3.11/site-packages/youtube_transcript_api/_api.py:137\u001b[0m, in \u001b[0;36mYouTubeTranscriptApi.get_transcript\u001b[0;34m(cls, video_id, languages, proxies, cookies, preserve_formatting)\u001b[0m\n\u001b[1;32m    116\u001b[0m \u001b[39m\u001b[39m\u001b[39m\"\"\"\u001b[39;00m\n\u001b[1;32m    117\u001b[0m \u001b[39mRetrieves the transcript for a single video. This is just a shortcut for calling::\u001b[39;00m\n\u001b[1;32m    118\u001b[0m \n\u001b[0;32m   (...)\u001b[0m\n\u001b[1;32m    134\u001b[0m \u001b[39m:rtype [{'text': str, 'start': float, 'end': float}]:\u001b[39;00m\n\u001b[1;32m    135\u001b[0m \u001b[39m\"\"\"\u001b[39;00m\n\u001b[1;32m    136\u001b[0m \u001b[39massert\u001b[39;00m \u001b[39misinstance\u001b[39m(video_id, \u001b[39mstr\u001b[39m), \u001b[39m\"\u001b[39m\u001b[39m`video_id` must be a string\u001b[39m\u001b[39m\"\u001b[39m\n\u001b[0;32m--> 137\u001b[0m \u001b[39mreturn\u001b[39;00m \u001b[39mcls\u001b[39;49m\u001b[39m.\u001b[39;49mlist_transcripts(video_id, proxies, cookies)\u001b[39m.\u001b[39mfind_transcript(languages)\u001b[39m.\u001b[39mfetch(preserve_formatting\u001b[39m=\u001b[39mpreserve_formatting)\n",
      "File \u001b[0;32m~/Documents/GitHub/fantano-knowledge-graph/venv/lib/python3.11/site-packages/youtube_transcript_api/_api.py:71\u001b[0m, in \u001b[0;36mYouTubeTranscriptApi.list_transcripts\u001b[0;34m(cls, video_id, proxies, cookies)\u001b[0m\n\u001b[1;32m     69\u001b[0m     http_client\u001b[39m.\u001b[39mcookies \u001b[39m=\u001b[39m \u001b[39mcls\u001b[39m\u001b[39m.\u001b[39m_load_cookies(cookies, video_id)\n\u001b[1;32m     70\u001b[0m http_client\u001b[39m.\u001b[39mproxies \u001b[39m=\u001b[39m proxies \u001b[39mif\u001b[39;00m proxies \u001b[39melse\u001b[39;00m {}\n\u001b[0;32m---> 71\u001b[0m \u001b[39mreturn\u001b[39;00m TranscriptListFetcher(http_client)\u001b[39m.\u001b[39;49mfetch(video_id)\n",
      "File \u001b[0;32m~/Documents/GitHub/fantano-knowledge-graph/venv/lib/python3.11/site-packages/youtube_transcript_api/_transcripts.py:48\u001b[0m, in \u001b[0;36mTranscriptListFetcher.fetch\u001b[0;34m(self, video_id)\u001b[0m\n\u001b[1;32m     44\u001b[0m \u001b[39mdef\u001b[39;00m \u001b[39mfetch\u001b[39m(\u001b[39mself\u001b[39m, video_id):\n\u001b[1;32m     45\u001b[0m     \u001b[39mreturn\u001b[39;00m TranscriptList\u001b[39m.\u001b[39mbuild(\n\u001b[1;32m     46\u001b[0m         \u001b[39mself\u001b[39m\u001b[39m.\u001b[39m_http_client,\n\u001b[1;32m     47\u001b[0m         video_id,\n\u001b[0;32m---> 48\u001b[0m         \u001b[39mself\u001b[39m\u001b[39m.\u001b[39m_extract_captions_json(\u001b[39mself\u001b[39;49m\u001b[39m.\u001b[39;49m_fetch_video_html(video_id), video_id),\n\u001b[1;32m     49\u001b[0m     )\n",
      "File \u001b[0;32m~/Documents/GitHub/fantano-knowledge-graph/venv/lib/python3.11/site-packages/youtube_transcript_api/_transcripts.py:82\u001b[0m, in \u001b[0;36mTranscriptListFetcher._fetch_video_html\u001b[0;34m(self, video_id)\u001b[0m\n\u001b[1;32m     81\u001b[0m \u001b[39mdef\u001b[39;00m \u001b[39m_fetch_video_html\u001b[39m(\u001b[39mself\u001b[39m, video_id):\n\u001b[0;32m---> 82\u001b[0m     html \u001b[39m=\u001b[39m \u001b[39mself\u001b[39;49m\u001b[39m.\u001b[39;49m_fetch_html(video_id)\n\u001b[1;32m     83\u001b[0m     \u001b[39mif\u001b[39;00m \u001b[39m'\u001b[39m\u001b[39maction=\u001b[39m\u001b[39m\"\u001b[39m\u001b[39mhttps://consent.youtube.com/s\u001b[39m\u001b[39m\"\u001b[39m\u001b[39m'\u001b[39m \u001b[39min\u001b[39;00m html:\n\u001b[1;32m     84\u001b[0m         \u001b[39mself\u001b[39m\u001b[39m.\u001b[39m_create_consent_cookie(html, video_id)\n",
      "File \u001b[0;32m~/Documents/GitHub/fantano-knowledge-graph/venv/lib/python3.11/site-packages/youtube_transcript_api/_transcripts.py:91\u001b[0m, in \u001b[0;36mTranscriptListFetcher._fetch_html\u001b[0;34m(self, video_id)\u001b[0m\n\u001b[1;32m     90\u001b[0m \u001b[39mdef\u001b[39;00m \u001b[39m_fetch_html\u001b[39m(\u001b[39mself\u001b[39m, video_id):\n\u001b[0;32m---> 91\u001b[0m     response \u001b[39m=\u001b[39m \u001b[39mself\u001b[39;49m\u001b[39m.\u001b[39;49m_http_client\u001b[39m.\u001b[39;49mget(WATCH_URL\u001b[39m.\u001b[39;49mformat(video_id\u001b[39m=\u001b[39;49mvideo_id), headers\u001b[39m=\u001b[39;49m{\u001b[39m'\u001b[39;49m\u001b[39mAccept-Language\u001b[39;49m\u001b[39m'\u001b[39;49m: \u001b[39m'\u001b[39;49m\u001b[39men-US\u001b[39;49m\u001b[39m'\u001b[39;49m})\n\u001b[1;32m     92\u001b[0m     \u001b[39mreturn\u001b[39;00m unescape(_raise_http_errors(response, video_id)\u001b[39m.\u001b[39mtext)\n",
      "File \u001b[0;32m~/Documents/GitHub/fantano-knowledge-graph/venv/lib/python3.11/site-packages/requests/sessions.py:602\u001b[0m, in \u001b[0;36mSession.get\u001b[0;34m(self, url, **kwargs)\u001b[0m\n\u001b[1;32m    594\u001b[0m \u001b[39m\u001b[39m\u001b[39mr\u001b[39m\u001b[39m\"\"\"Sends a GET request. Returns :class:`Response` object.\u001b[39;00m\n\u001b[1;32m    595\u001b[0m \n\u001b[1;32m    596\u001b[0m \u001b[39m:param url: URL for the new :class:`Request` object.\u001b[39;00m\n\u001b[1;32m    597\u001b[0m \u001b[39m:param \\*\\*kwargs: Optional arguments that ``request`` takes.\u001b[39;00m\n\u001b[1;32m    598\u001b[0m \u001b[39m:rtype: requests.Response\u001b[39;00m\n\u001b[1;32m    599\u001b[0m \u001b[39m\"\"\"\u001b[39;00m\n\u001b[1;32m    601\u001b[0m kwargs\u001b[39m.\u001b[39msetdefault(\u001b[39m\"\u001b[39m\u001b[39mallow_redirects\u001b[39m\u001b[39m\"\u001b[39m, \u001b[39mTrue\u001b[39;00m)\n\u001b[0;32m--> 602\u001b[0m \u001b[39mreturn\u001b[39;00m \u001b[39mself\u001b[39;49m\u001b[39m.\u001b[39;49mrequest(\u001b[39m\"\u001b[39;49m\u001b[39mGET\u001b[39;49m\u001b[39m\"\u001b[39;49m, url, \u001b[39m*\u001b[39;49m\u001b[39m*\u001b[39;49mkwargs)\n",
      "File \u001b[0;32m~/Documents/GitHub/fantano-knowledge-graph/venv/lib/python3.11/site-packages/requests/sessions.py:589\u001b[0m, in \u001b[0;36mSession.request\u001b[0;34m(self, method, url, params, data, headers, cookies, files, auth, timeout, allow_redirects, proxies, hooks, stream, verify, cert, json)\u001b[0m\n\u001b[1;32m    584\u001b[0m send_kwargs \u001b[39m=\u001b[39m {\n\u001b[1;32m    585\u001b[0m     \u001b[39m\"\u001b[39m\u001b[39mtimeout\u001b[39m\u001b[39m\"\u001b[39m: timeout,\n\u001b[1;32m    586\u001b[0m     \u001b[39m\"\u001b[39m\u001b[39mallow_redirects\u001b[39m\u001b[39m\"\u001b[39m: allow_redirects,\n\u001b[1;32m    587\u001b[0m }\n\u001b[1;32m    588\u001b[0m send_kwargs\u001b[39m.\u001b[39mupdate(settings)\n\u001b[0;32m--> 589\u001b[0m resp \u001b[39m=\u001b[39m \u001b[39mself\u001b[39;49m\u001b[39m.\u001b[39;49msend(prep, \u001b[39m*\u001b[39;49m\u001b[39m*\u001b[39;49msend_kwargs)\n\u001b[1;32m    591\u001b[0m \u001b[39mreturn\u001b[39;00m resp\n",
      "File \u001b[0;32m~/Documents/GitHub/fantano-knowledge-graph/venv/lib/python3.11/site-packages/requests/sessions.py:747\u001b[0m, in \u001b[0;36mSession.send\u001b[0;34m(self, request, **kwargs)\u001b[0m\n\u001b[1;32m    744\u001b[0m         \u001b[39mpass\u001b[39;00m\n\u001b[1;32m    746\u001b[0m \u001b[39mif\u001b[39;00m \u001b[39mnot\u001b[39;00m stream:\n\u001b[0;32m--> 747\u001b[0m     r\u001b[39m.\u001b[39;49mcontent\n\u001b[1;32m    749\u001b[0m \u001b[39mreturn\u001b[39;00m r\n",
      "File \u001b[0;32m~/Documents/GitHub/fantano-knowledge-graph/venv/lib/python3.11/site-packages/requests/models.py:899\u001b[0m, in \u001b[0;36mResponse.content\u001b[0;34m(self)\u001b[0m\n\u001b[1;32m    897\u001b[0m         \u001b[39mself\u001b[39m\u001b[39m.\u001b[39m_content \u001b[39m=\u001b[39m \u001b[39mNone\u001b[39;00m\n\u001b[1;32m    898\u001b[0m     \u001b[39melse\u001b[39;00m:\n\u001b[0;32m--> 899\u001b[0m         \u001b[39mself\u001b[39m\u001b[39m.\u001b[39m_content \u001b[39m=\u001b[39m \u001b[39mb\u001b[39m\u001b[39m\"\u001b[39m\u001b[39m\"\u001b[39m\u001b[39m.\u001b[39mjoin(\u001b[39mself\u001b[39m\u001b[39m.\u001b[39miter_content(CONTENT_CHUNK_SIZE)) \u001b[39mor\u001b[39;00m \u001b[39mb\u001b[39m\u001b[39m\"\u001b[39m\u001b[39m\"\u001b[39m\n\u001b[1;32m    901\u001b[0m \u001b[39mself\u001b[39m\u001b[39m.\u001b[39m_content_consumed \u001b[39m=\u001b[39m \u001b[39mTrue\u001b[39;00m\n\u001b[1;32m    902\u001b[0m \u001b[39m# don't need to release the connection; that's been handled by urllib3\u001b[39;00m\n\u001b[1;32m    903\u001b[0m \u001b[39m# since we exhausted the data.\u001b[39;00m\n",
      "File \u001b[0;32m~/Documents/GitHub/fantano-knowledge-graph/venv/lib/python3.11/site-packages/requests/models.py:816\u001b[0m, in \u001b[0;36mResponse.iter_content.<locals>.generate\u001b[0;34m()\u001b[0m\n\u001b[1;32m    814\u001b[0m \u001b[39mif\u001b[39;00m \u001b[39mhasattr\u001b[39m(\u001b[39mself\u001b[39m\u001b[39m.\u001b[39mraw, \u001b[39m\"\u001b[39m\u001b[39mstream\u001b[39m\u001b[39m\"\u001b[39m):\n\u001b[1;32m    815\u001b[0m     \u001b[39mtry\u001b[39;00m:\n\u001b[0;32m--> 816\u001b[0m         \u001b[39myield from\u001b[39;00m \u001b[39mself\u001b[39m\u001b[39m.\u001b[39mraw\u001b[39m.\u001b[39mstream(chunk_size, decode_content\u001b[39m=\u001b[39m\u001b[39mTrue\u001b[39;00m)\n\u001b[1;32m    817\u001b[0m     \u001b[39mexcept\u001b[39;00m ProtocolError \u001b[39mas\u001b[39;00m e:\n\u001b[1;32m    818\u001b[0m         \u001b[39mraise\u001b[39;00m ChunkedEncodingError(e)\n",
      "File \u001b[0;32m~/Documents/GitHub/fantano-knowledge-graph/venv/lib/python3.11/site-packages/urllib3/response.py:933\u001b[0m, in \u001b[0;36mHTTPResponse.stream\u001b[0;34m(self, amt, decode_content)\u001b[0m\n\u001b[1;32m    917\u001b[0m \u001b[39m\u001b[39m\u001b[39m\"\"\"\u001b[39;00m\n\u001b[1;32m    918\u001b[0m \u001b[39mA generator wrapper for the read() method. A call will block until\u001b[39;00m\n\u001b[1;32m    919\u001b[0m \u001b[39m``amt`` bytes have been read from the connection or until the\u001b[39;00m\n\u001b[0;32m   (...)\u001b[0m\n\u001b[1;32m    930\u001b[0m \u001b[39m    'content-encoding' header.\u001b[39;00m\n\u001b[1;32m    931\u001b[0m \u001b[39m\"\"\"\u001b[39;00m\n\u001b[1;32m    932\u001b[0m \u001b[39mif\u001b[39;00m \u001b[39mself\u001b[39m\u001b[39m.\u001b[39mchunked \u001b[39mand\u001b[39;00m \u001b[39mself\u001b[39m\u001b[39m.\u001b[39msupports_chunked_reads():\n\u001b[0;32m--> 933\u001b[0m     \u001b[39myield from\u001b[39;00m \u001b[39mself\u001b[39m\u001b[39m.\u001b[39mread_chunked(amt, decode_content\u001b[39m=\u001b[39mdecode_content)\n\u001b[1;32m    934\u001b[0m \u001b[39melse\u001b[39;00m:\n\u001b[1;32m    935\u001b[0m     \u001b[39mwhile\u001b[39;00m \u001b[39mnot\u001b[39;00m is_fp_closed(\u001b[39mself\u001b[39m\u001b[39m.\u001b[39m_fp) \u001b[39mor\u001b[39;00m \u001b[39mlen\u001b[39m(\u001b[39mself\u001b[39m\u001b[39m.\u001b[39m_decoded_buffer) \u001b[39m>\u001b[39m \u001b[39m0\u001b[39m:\n",
      "File \u001b[0;32m~/Documents/GitHub/fantano-knowledge-graph/venv/lib/python3.11/site-packages/urllib3/response.py:1073\u001b[0m, in \u001b[0;36mHTTPResponse.read_chunked\u001b[0;34m(self, amt, decode_content)\u001b[0m\n\u001b[1;32m   1070\u001b[0m     \u001b[39mreturn\u001b[39;00m \u001b[39mNone\u001b[39;00m\n\u001b[1;32m   1072\u001b[0m \u001b[39mwhile\u001b[39;00m \u001b[39mTrue\u001b[39;00m:\n\u001b[0;32m-> 1073\u001b[0m     \u001b[39mself\u001b[39;49m\u001b[39m.\u001b[39;49m_update_chunk_length()\n\u001b[1;32m   1074\u001b[0m     \u001b[39mif\u001b[39;00m \u001b[39mself\u001b[39m\u001b[39m.\u001b[39mchunk_left \u001b[39m==\u001b[39m \u001b[39m0\u001b[39m:\n\u001b[1;32m   1075\u001b[0m         \u001b[39mbreak\u001b[39;00m\n",
      "File \u001b[0;32m~/Documents/GitHub/fantano-knowledge-graph/venv/lib/python3.11/site-packages/urllib3/response.py:1001\u001b[0m, in \u001b[0;36mHTTPResponse._update_chunk_length\u001b[0;34m(self)\u001b[0m\n\u001b[1;32m    999\u001b[0m \u001b[39mif\u001b[39;00m \u001b[39mself\u001b[39m\u001b[39m.\u001b[39mchunk_left \u001b[39mis\u001b[39;00m \u001b[39mnot\u001b[39;00m \u001b[39mNone\u001b[39;00m:\n\u001b[1;32m   1000\u001b[0m     \u001b[39mreturn\u001b[39;00m \u001b[39mNone\u001b[39;00m\n\u001b[0;32m-> 1001\u001b[0m line \u001b[39m=\u001b[39m \u001b[39mself\u001b[39m\u001b[39m.\u001b[39m_fp\u001b[39m.\u001b[39mfp\u001b[39m.\u001b[39mreadline()  \u001b[39m# type: ignore[union-attr]\u001b[39;00m\n\u001b[1;32m   1002\u001b[0m line \u001b[39m=\u001b[39m line\u001b[39m.\u001b[39msplit(\u001b[39mb\u001b[39m\u001b[39m\"\u001b[39m\u001b[39m;\u001b[39m\u001b[39m\"\u001b[39m, \u001b[39m1\u001b[39m)[\u001b[39m0\u001b[39m]\n\u001b[1;32m   1003\u001b[0m \u001b[39mtry\u001b[39;00m:\n",
      "File \u001b[0;32m/Library/Frameworks/Python.framework/Versions/3.11/lib/python3.11/socket.py:706\u001b[0m, in \u001b[0;36mSocketIO.readinto\u001b[0;34m(self, b)\u001b[0m\n\u001b[1;32m    704\u001b[0m \u001b[39mwhile\u001b[39;00m \u001b[39mTrue\u001b[39;00m:\n\u001b[1;32m    705\u001b[0m     \u001b[39mtry\u001b[39;00m:\n\u001b[0;32m--> 706\u001b[0m         \u001b[39mreturn\u001b[39;00m \u001b[39mself\u001b[39;49m\u001b[39m.\u001b[39;49m_sock\u001b[39m.\u001b[39;49mrecv_into(b)\n\u001b[1;32m    707\u001b[0m     \u001b[39mexcept\u001b[39;00m timeout:\n\u001b[1;32m    708\u001b[0m         \u001b[39mself\u001b[39m\u001b[39m.\u001b[39m_timeout_occurred \u001b[39m=\u001b[39m \u001b[39mTrue\u001b[39;00m\n",
      "File \u001b[0;32m/Library/Frameworks/Python.framework/Versions/3.11/lib/python3.11/ssl.py:1278\u001b[0m, in \u001b[0;36mSSLSocket.recv_into\u001b[0;34m(self, buffer, nbytes, flags)\u001b[0m\n\u001b[1;32m   1274\u001b[0m     \u001b[39mif\u001b[39;00m flags \u001b[39m!=\u001b[39m \u001b[39m0\u001b[39m:\n\u001b[1;32m   1275\u001b[0m         \u001b[39mraise\u001b[39;00m \u001b[39mValueError\u001b[39;00m(\n\u001b[1;32m   1276\u001b[0m           \u001b[39m\"\u001b[39m\u001b[39mnon-zero flags not allowed in calls to recv_into() on \u001b[39m\u001b[39m%s\u001b[39;00m\u001b[39m\"\u001b[39m \u001b[39m%\u001b[39m\n\u001b[1;32m   1277\u001b[0m           \u001b[39mself\u001b[39m\u001b[39m.\u001b[39m\u001b[39m__class__\u001b[39m)\n\u001b[0;32m-> 1278\u001b[0m     \u001b[39mreturn\u001b[39;00m \u001b[39mself\u001b[39;49m\u001b[39m.\u001b[39;49mread(nbytes, buffer)\n\u001b[1;32m   1279\u001b[0m \u001b[39melse\u001b[39;00m:\n\u001b[1;32m   1280\u001b[0m     \u001b[39mreturn\u001b[39;00m \u001b[39msuper\u001b[39m()\u001b[39m.\u001b[39mrecv_into(buffer, nbytes, flags)\n",
      "File \u001b[0;32m/Library/Frameworks/Python.framework/Versions/3.11/lib/python3.11/ssl.py:1134\u001b[0m, in \u001b[0;36mSSLSocket.read\u001b[0;34m(self, len, buffer)\u001b[0m\n\u001b[1;32m   1132\u001b[0m \u001b[39mtry\u001b[39;00m:\n\u001b[1;32m   1133\u001b[0m     \u001b[39mif\u001b[39;00m buffer \u001b[39mis\u001b[39;00m \u001b[39mnot\u001b[39;00m \u001b[39mNone\u001b[39;00m:\n\u001b[0;32m-> 1134\u001b[0m         \u001b[39mreturn\u001b[39;00m \u001b[39mself\u001b[39;49m\u001b[39m.\u001b[39;49m_sslobj\u001b[39m.\u001b[39;49mread(\u001b[39mlen\u001b[39;49m, buffer)\n\u001b[1;32m   1135\u001b[0m     \u001b[39melse\u001b[39;00m:\n\u001b[1;32m   1136\u001b[0m         \u001b[39mreturn\u001b[39;00m \u001b[39mself\u001b[39m\u001b[39m.\u001b[39m_sslobj\u001b[39m.\u001b[39mread(\u001b[39mlen\u001b[39m)\n",
      "\u001b[0;31mKeyboardInterrupt\u001b[0m: "
     ]
    }
   ],
   "source": [
    "scraper.create_and_upload_transcripts()"
   ]
  },
  {
   "cell_type": "code",
   "execution_count": 6,
   "metadata": {},
   "outputs": [],
   "source": [
    "chunker = Chunker()"
   ]
  },
  {
   "cell_type": "code",
   "execution_count": 7,
   "metadata": {},
   "outputs": [],
   "source": [
    "chunker.chunk_youtube_transcripts()"
   ]
  },
  {
   "cell_type": "code",
   "execution_count": 9,
   "metadata": {},
   "outputs": [
    {
     "name": "stdout",
     "output_type": "stream",
     "text": [
      "driver created\n"
     ]
    }
   ],
   "source": [
    "com = Communicator()"
   ]
  },
  {
   "cell_type": "code",
   "execution_count": 10,
   "metadata": {},
   "outputs": [
    {
     "name": "stdout",
     "output_type": "stream",
     "text": [
      "database name:  neo4j\n"
     ]
    }
   ],
   "source": [
    "com.upload_transcripts(data=chunker.chunks_as_list)"
   ]
  },
  {
   "cell_type": "code",
   "execution_count": null,
   "metadata": {},
   "outputs": [],
   "source": []
  }
 ],
 "metadata": {
  "kernelspec": {
   "display_name": "venv",
   "language": "python",
   "name": "python3"
  },
  "language_info": {
   "codemirror_mode": {
    "name": "ipython",
    "version": 3
   },
   "file_extension": ".py",
   "mimetype": "text/x-python",
   "name": "python",
   "nbconvert_exporter": "python",
   "pygments_lexer": "ipython3",
   "version": "3.11.3"
  }
 },
 "nbformat": 4,
 "nbformat_minor": 2
}

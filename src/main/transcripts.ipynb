{
 "cells": [
  {
   "cell_type": "code",
   "execution_count": 1,
   "metadata": {},
   "outputs": [],
   "source": [
    "import sys\n",
    "import os\n",
    "import time\n",
    "from typing import List, Dict\n",
    "import json\n",
    "from uuid import uuid4\n",
    "\n",
    "import pandas as pd\n",
    "\n",
    "from tools.chunker import Chunker\n",
    "from tools.embedding import EmbeddingService\n",
    "from n4j.communicator import Communicator\n",
    "\n",
    "from utils.utils import batch_method, prepare_new_nodes, remove_filler_words\n"
   ]
  },
  {
   "cell_type": "markdown",
   "metadata": {},
   "source": [
    "## Define variables"
   ]
  },
  {
   "cell_type": "code",
   "execution_count": 2,
   "metadata": {},
   "outputs": [],
   "source": [
    "with open(\"resources/playlist_ids.json\") as json_file:\n",
    "    playlists = json.load(json_file)"
   ]
  },
  {
   "cell_type": "code",
   "execution_count": 3,
   "metadata": {},
   "outputs": [
    {
     "data": {
      "text/plain": [
       "'classics'"
      ]
     },
     "execution_count": 3,
     "metadata": {},
     "output_type": "execute_result"
    }
   ],
   "source": [
    "list(playlists.keys())[0]"
   ]
  },
  {
   "cell_type": "code",
   "execution_count": 4,
   "metadata": {},
   "outputs": [],
   "source": [
    "chunker = Chunker()"
   ]
  },
  {
   "cell_type": "code",
   "execution_count": 5,
   "metadata": {},
   "outputs": [],
   "source": [
    "embed = EmbeddingService()"
   ]
  },
  {
   "cell_type": "code",
   "execution_count": 6,
   "metadata": {},
   "outputs": [
    {
     "name": "stdout",
     "output_type": "stream",
     "text": [
      "driver created\n"
     ]
    }
   ],
   "source": [
    "writer = Communicator()"
   ]
  },
  {
   "cell_type": "code",
   "execution_count": 7,
   "metadata": {},
   "outputs": [],
   "source": [
    "playlist = 'classics'\n",
    "playlist_id = playlists[playlist]"
   ]
  },
  {
   "cell_type": "markdown",
   "metadata": {},
   "source": [
    "## Load Code"
   ]
  },
  {
   "cell_type": "code",
   "execution_count": 8,
   "metadata": {},
   "outputs": [
    {
     "name": "stdout",
     "output_type": "stream",
     "text": [
      "database name:  neo4j\n",
      "{code: Neo.ClientError.Schema.EquivalentSchemaRuleAlreadyExists} {message: An equivalent constraint already exists, 'Constraint( id=3, name='document_id', type='UNIQUENESS', schema=(:Document {id}), ownedIndex=2 )'.}\n"
     ]
    }
   ],
   "source": [
    "try:\n",
    "    writer.create_constraints()\n",
    "except Exception as e:\n",
    "    print(e)"
   ]
  },
  {
   "cell_type": "code",
   "execution_count": 9,
   "metadata": {},
   "outputs": [],
   "source": [
    "chunker._chunked_documents = []\n",
    "chunker.chunk_youtube_transcripts(playlist_title=playlist,\n",
    "                                cleaning_functions=[remove_filler_words])"
   ]
  },
  {
   "cell_type": "code",
   "execution_count": 10,
   "metadata": {},
   "outputs": [
    {
     "data": {
      "text/plain": [
       "{'url': 'https://www.youtube.com/watch?v=-7_UEorW3Vg',\n",
       " 'video_id': '-7_UEorW3Vg',\n",
       " 'parent_index': 'dce16fc2-f756-4f05-9ad1-74a67735ce54',\n",
       " 'parent_transcript': \"hi everyone Anthony Fantino here Internet's busiest music nerd Happy New Year and it's time for a nother review of an older album today Dead Kennedys plastic surgery disasters Dead Kennedys is a California hardcore punk band who at the time of the release of this album in the early 80s their roster consisted of jello biafra on vocals D H peligro on drums Klaus flouride on bass and East Bay Ray on guitar and in my opinion this was one of the best quartets in hardcore punk during their time I mean tight talented unique and very creative this help he is Dead Kennedys sophomore full-length for the most part I've seen more I guess sort of accolade it's given to their debut album people really prefer that LP over this one but in my opinion this album is actually nothing but improvement past the debut LP maybe it didn't really have the strong viral and kind of punk music defining singles like California or Alice or holiday in Cambodia but still I think this is some of Dead Kennedys best material if not their best material the period for long the production on this thing is absolutely fantastic the guitars on this LP are just brittle eardrum shattering fire just the way they kind of fuse in with the bass in this recording sounds great plus on top of just East Bay Rays guitar tone he plays a lot of intensely catchy and melodic leads and solos all over this album I mean this dude is a fantastic guitarist and some strong elements of surf rock and and rockabilly show up to especially when he's throwing on a little bit of a vintage reverb onto whatever he's playing while Dead Kennedys was a punk and there were clearly other influences coming from genres such as jazz and blues especially from clouds fluorides baselines at this point Dead Kennedys career Klaus was an extremely refreshing Punk bassist I mean some of the stuff that he did with the pick I mean his pick etiquette for one was fantastic and sometimes like I'm tracks such as riot he'd just sort of pull something crazy like just be strumming these chords on the bass he played the bass with a lot of speed a lot of aggression it was rough but also very tight and focused there was a lot of treble on his bass tone too which had a nice grinding quality to it now as far as the drums go it is fast fast fast very muscular playing from D H he just brought so much momentum and so much thrust to this record I mean his snare rolls on the track buzz bomb opening up the song are fantastic and the\",\n",
       " 'title': 'Dead Kennedys- Plastic Surgery Disasters ALBUM REVIEW',\n",
       " 'publish_date': '2014-07-23',\n",
       " 'transcript': \"hi everyone Anthony Fantino here Internet's busiest music nerd Happy New Year and it's time for a nother review of an older alb today Dead\"}"
      ]
     },
     "execution_count": 10,
     "metadata": {},
     "output_type": "execute_result"
    }
   ],
   "source": [
    "chunker.chunks_as_list[0]"
   ]
  },
  {
   "cell_type": "code",
   "execution_count": 11,
   "metadata": {},
   "outputs": [],
   "source": [
    "result = []\n",
    "failed_idx = None\n",
    "playlist_total = len(chunker.chunks_as_list)"
   ]
  },
  {
   "cell_type": "code",
   "execution_count": 12,
   "metadata": {},
   "outputs": [
    {
     "name": "stdout",
     "output_type": "stream",
     "text": [
      "classics: 6897\n",
      "grabbing embeddings...\n",
      "total percent:  99.7 %  batch 345\r"
     ]
    }
   ],
   "source": [
    "print(playlist+\": \"+str(playlist_total))\n",
    "print(\"grabbing embeddings...\")\n",
    "\n",
    "for idx, bat in enumerate(batch_method(chunker.chunks_as_list, 20)):\n",
    "    new_nodes = prepare_new_nodes(data=bat, playlist_id=playlist_id, embedding_service=embed)\n",
    "    result+=new_nodes\n",
    "    print(\"total percent: \", str(round(((20*idx)+1) / playlist_total, 4)*100)[:4], \"%\", \" batch\", idx+1, end=\"\\r\")"
   ]
  },
  {
   "cell_type": "code",
   "execution_count": 13,
   "metadata": {},
   "outputs": [
    {
     "name": "stdout",
     "output_type": "stream",
     "text": [
      "loading to graph...\n",
      "database name:  neo4j\n"
     ]
    }
   ],
   "source": [
    "print(\"loading to graph...\")\n",
    "writer.load_nodes(data=result)"
   ]
  },
  {
   "cell_type": "code",
   "execution_count": null,
   "metadata": {},
   "outputs": [],
   "source": []
  }
 ],
 "metadata": {
  "kernelspec": {
   "display_name": "venv",
   "language": "python",
   "name": "python3"
  },
  "language_info": {
   "codemirror_mode": {
    "name": "ipython",
    "version": 3
   },
   "file_extension": ".py",
   "mimetype": "text/x-python",
   "name": "python",
   "nbconvert_exporter": "python",
   "pygments_lexer": "ipython3",
   "version": "3.11.3"
  }
 },
 "nbformat": 4,
 "nbformat_minor": 2
}

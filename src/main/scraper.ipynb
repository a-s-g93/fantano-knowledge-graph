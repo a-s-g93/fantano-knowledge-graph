{
 "cells": [
  {
   "cell_type": "code",
   "execution_count": 1,
   "metadata": {},
   "outputs": [],
   "source": [
    "from tools.scraper import Scraper\n",
    "from tools.chunker import Chunker\n",
    "from n4j.communicator import Communicator\n",
    "import os\n",
    "import json"
   ]
  },
  {
   "cell_type": "code",
   "execution_count": 2,
   "metadata": {},
   "outputs": [
    {
     "name": "stdout",
     "output_type": "stream",
     "text": [
      "fantano-videos\n"
     ]
    }
   ],
   "source": [
    "print(os.environ.get('GCP_BUCKET_NAME'))"
   ]
  },
  {
   "cell_type": "code",
   "execution_count": 3,
   "metadata": {},
   "outputs": [],
   "source": [
    "scraper = Scraper(channel_id='UCt7fwAhXDy3oNFTAzF2o8Pw')"
   ]
  },
  {
   "cell_type": "code",
   "execution_count": 4,
   "metadata": {},
   "outputs": [
    {
     "data": {
      "text/plain": [
       "'UCt7fwAhXDy3oNFTAzF2o8Pw'"
      ]
     },
     "execution_count": 4,
     "metadata": {},
     "output_type": "execute_result"
    }
   ],
   "source": [
    "scraper.channel_id"
   ]
  },
  {
   "cell_type": "code",
   "execution_count": 5,
   "metadata": {},
   "outputs": [],
   "source": [
    "with open(\"resources/playlist_ids.json\") as json_file:\n",
    "    playlists = json.load(json_file)"
   ]
  },
  {
   "cell_type": "code",
   "execution_count": 6,
   "metadata": {},
   "outputs": [
    {
     "data": {
      "text/plain": [
       "{'classics': 'PLP4CSgl7K7or_7JI7RsEsptyS4wfLFGIN',\n",
       " 'electronic': 'PLP4CSgl7K7ormBIO138tYonB949PHnNcP',\n",
       " 'hip hop': 'PLP4CSgl7K7ormX2pL9h0inES2Ub630NoL'}"
      ]
     },
     "execution_count": 6,
     "metadata": {},
     "output_type": "execute_result"
    }
   ],
   "source": [
    "playlists"
   ]
  },
  {
   "cell_type": "code",
   "execution_count": 7,
   "metadata": {},
   "outputs": [
    {
     "name": "stdout",
     "output_type": "stream",
     "text": [
      "classics\n",
      "PLP4CSgl7K7or_7JI7RsEsptyS4wfLFGIN\n",
      "creating CSV file with video info...\n",
      "total results set:  68\n",
      "total results:  68\n",
      "ids retrieved:  50 \n",
      "\n",
      "total results:  68\n",
      "ids retrieved:  68 \n",
      "\n",
      "complete\n",
      "uploading CSV file to Storage...\n",
      "Creating and uploading transcripts...\n",
      "Failed: YMoJ4jsLqiQ\n",
      "Failed: u6lrbCViLTM\n",
      "Failed: dCdMYNbK8Vs\n",
      "Failed: pdndmLXJT9w\n",
      "Failed: RUAXoNP9WiU\n",
      "Failed: -pbadnjeRhY\n",
      "Failed: 8M_Z-HV9dgA\n",
      "Failed: voklugoW7e0\n",
      "Failed   :  88.53 %\n"
     ]
    }
   ],
   "source": [
    "title = 'classics'\n",
    "id = playlists[title]\n",
    "\n",
    "# set playlist id\n",
    "scraper.playlist_id = id\n",
    "scraper._scraped_video_info = None\n",
    "print(title)\n",
    "print(scraper.playlist_id)\n",
    "\n",
    "print(\"creating CSV file with video info...\")\n",
    "# scrape video info for playlist\n",
    "scraper.scrape_video_info(videos=[])\n",
    "\n",
    "print(\"uploading CSV file to Storage...\")\n",
    "# upload to Storage\n",
    "scraper.upload_scraped_video_info(file_name=title)\n",
    "\n",
    "print(\"Creating and uploading transcripts...\")\n",
    "# create and upload transcripts\n",
    "scraper.create_and_upload_transcripts(transcripts_folder=title, video_info_file_name=title)\n",
    "\n",
    "# ignore failed for now\n",
    "\n",
    "print()"
   ]
  }
 ],
 "metadata": {
  "kernelspec": {
   "display_name": "venv",
   "language": "python",
   "name": "python3"
  },
  "language_info": {
   "codemirror_mode": {
    "name": "ipython",
    "version": 3
   },
   "file_extension": ".py",
   "mimetype": "text/x-python",
   "name": "python",
   "nbconvert_exporter": "python",
   "pygments_lexer": "ipython3",
   "version": "3.11.3"
  }
 },
 "nbformat": 4,
 "nbformat_minor": 2
}

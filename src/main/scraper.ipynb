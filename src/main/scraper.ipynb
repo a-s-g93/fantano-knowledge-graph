{
 "cells": [
  {
   "cell_type": "code",
   "execution_count": 1,
   "metadata": {},
   "outputs": [],
   "source": [
    "import os\n",
    "import json\n",
    "\n",
    "from tools.scraper import Scraper"
   ]
  },
  {
   "cell_type": "code",
   "execution_count": 2,
   "metadata": {},
   "outputs": [
    {
     "name": "stdout",
     "output_type": "stream",
     "text": [
      "fantano-videos\n"
     ]
    }
   ],
   "source": [
    "print(os.environ.get('GCP_BUCKET_NAME'))"
   ]
  },
  {
   "cell_type": "code",
   "execution_count": 3,
   "metadata": {},
   "outputs": [],
   "source": [
    "scraper = Scraper(channel_id='UCt7fwAhXDy3oNFTAzF2o8Pw')"
   ]
  },
  {
   "cell_type": "code",
   "execution_count": 4,
   "metadata": {},
   "outputs": [
    {
     "data": {
      "text/plain": [
       "'UCt7fwAhXDy3oNFTAzF2o8Pw'"
      ]
     },
     "execution_count": 4,
     "metadata": {},
     "output_type": "execute_result"
    }
   ],
   "source": [
    "scraper.channel_id"
   ]
  },
  {
   "cell_type": "code",
   "execution_count": 12,
   "metadata": {},
   "outputs": [],
   "source": [
    "with open(\"resources/playlist_ids.json\") as json_file:\n",
    "    playlists = json.load(json_file)"
   ]
  },
  {
   "cell_type": "code",
   "execution_count": 13,
   "metadata": {},
   "outputs": [
    {
     "data": {
      "text/plain": [
       "{'classics': 'PLP4CSgl7K7or_7JI7RsEsptyS4wfLFGIN',\n",
       " 'electronic': 'PLP4CSgl7K7ormBIO138tYonB949PHnNcP',\n",
       " 'hip hop': 'PLP4CSgl7K7ormX2pL9h0inES2Ub630NoL',\n",
       " 'worst to best': 'PLP4CSgl7K7opkZ3eKAs1J_parHzPofQH4'}"
      ]
     },
     "execution_count": 13,
     "metadata": {},
     "output_type": "execute_result"
    }
   ],
   "source": [
    "playlists"
   ]
  },
  {
   "cell_type": "code",
   "execution_count": 14,
   "metadata": {},
   "outputs": [],
   "source": [
    "titles_to_load = ['electronic', 'worst to best']"
   ]
  },
  {
   "cell_type": "code",
   "execution_count": 16,
   "metadata": {},
   "outputs": [],
   "source": [
    "def scraper_sequence(title: str, playlist_id: str) -> None:\n",
    "    scraper = Scraper(channel_id='UCt7fwAhXDy3oNFTAzF2o8Pw')\n",
    "    scraper.playlist_id = playlist_id\n",
    "    scraper._scraped_video_info = None\n",
    "    print(title)\n",
    "    print(scraper.playlist_id)\n",
    "\n",
    "    print(\"creating CSV file with video info...\")\n",
    "    # scrape video info for playlist\n",
    "    scraper.scrape_video_info(videos=[])\n",
    "\n",
    "    print(\"uploading CSV file to Storage...\")\n",
    "    # upload to Storage\n",
    "    scraper.upload_scraped_video_info(file_name=title)\n",
    "\n",
    "    print(\"Creating and uploading transcripts...\")\n",
    "    # create and upload transcripts\n",
    "\n",
    "    scraper.create_and_upload_transcripts(transcripts_folder=title, video_info_file_name=title)\n",
    "\n",
    "    # ignore failed for now\n",
    "\n",
    "    print()"
   ]
  },
  {
   "cell_type": "code",
   "execution_count": 17,
   "metadata": {},
   "outputs": [
    {
     "name": "stdout",
     "output_type": "stream",
     "text": [
      "electronic\n",
      "PLP4CSgl7K7ormBIO138tYonB949PHnNcP\n",
      "creating CSV file with video info...\n",
      "total results set:  726\n",
      "ids retrieved:  50 \n",
      "ids retrieved:  100 \n",
      "ids retrieved:  150 \n",
      "ids retrieved:  200 \n",
      "ids retrieved:  250 \n",
      "ids retrieved:  300 \n",
      "ids retrieved:  350 \n",
      "ids retrieved:  400 \n",
      "ids retrieved:  450 \n",
      "ids retrieved:  500 \n",
      "ids retrieved:  550 \n",
      "ids retrieved:  600 \n",
      "ids retrieved:  650 \n",
      "ids retrieved:  700 \n",
      "ids retrieved:  726 \n",
      "complete\n",
      "uploading CSV file to Storage...\n",
      "Creating and uploading transcripts...\n",
      "\n",
      "worst to best\n",
      "PLP4CSgl7K7opkZ3eKAs1J_parHzPofQH4\n",
      "creating CSV file with video info...\n",
      "total results set:  8\n",
      "ids retrieved:  8 \n",
      "complete\n",
      "uploading CSV file to Storage...\n",
      "Creating and uploading transcripts...\n",
      "Progress :  100.0 % |  failed:  0\n"
     ]
    }
   ],
   "source": [
    "# title = 'classics'\n",
    "# id = playlists[title]\n",
    "\n",
    "for title in titles_to_load:\n",
    "    scraper_sequence(title=title, playlist_id=playlists[title])"
   ]
  },
  {
   "cell_type": "code",
   "execution_count": null,
   "metadata": {},
   "outputs": [],
   "source": []
  }
 ],
 "metadata": {
  "kernelspec": {
   "display_name": "venv",
   "language": "python",
   "name": "python3"
  },
  "language_info": {
   "codemirror_mode": {
    "name": "ipython",
    "version": 3
   },
   "file_extension": ".py",
   "mimetype": "text/x-python",
   "name": "python",
   "nbconvert_exporter": "python",
   "pygments_lexer": "ipython3",
   "version": "3.11.3"
  }
 },
 "nbformat": 4,
 "nbformat_minor": 2
}
